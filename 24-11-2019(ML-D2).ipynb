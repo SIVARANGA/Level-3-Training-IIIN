{
 "cells": [
  {
   "cell_type": "code",
   "execution_count": null,
   "metadata": {},
   "outputs": [],
   "source": [
    "import numpy as np\n",
    "import matplotlib.pyplot as plt"
   ]
  },
  {
   "cell_type": "code",
   "execution_count": 8,
   "metadata": {},
   "outputs": [],
   "source": [
    "x=np.random.rand(100,1)"
   ]
  },
  {
   "cell_type": "code",
   "execution_count": null,
   "metadata": {},
   "outputs": [],
   "source": [
    "y=4+3*x+np.random.rand(100,1)"
   ]
  },
  {
   "cell_type": "code",
   "execution_count": 18,
   "metadata": {},
   "outputs": [
    {
     "data": {
      "text/plain": [
       "[<matplotlib.lines.Line2D at 0x1d291c327f0>]"
      ]
     },
     "execution_count": 18,
     "metadata": {},
     "output_type": "execute_result"
    },
    {
     "data": {
      "image/png": "[encoded data removed]",
      "text/plain": [
       "<Figure size 432x288 with 1 Axes>"
      ]
     },
     "metadata": {
      "needs_background": "light"
     },
     "output_type": "display_data"
    }
   ],
   "source": [
    "plt.plot(x,y,'.')"
   ]
  },
  {
   "cell_type": "code",
   "execution_count": 19,
   "metadata": {},
   "outputs": [],
   "source": [
    "x_b=np.c_[np.ones((100,1)),x]\n"
   ]
  },
  {
   "cell_type": "code",
   "execution_count": 20,
   "metadata": {},
   "outputs": [],
   "source": [
    "theta=np.linalg.inv(x_b.T.dot(x_b)).dot(x_b.T).dot(y)"
   ]
  },
  {
   "cell_type": "code",
   "execution_count": 21,
   "metadata": {},
   "outputs": [
    {
     "data": {
      "text/plain": [
       "array([[4.56124547],\n",
       "       [2.94646772]])"
      ]
     },
     "execution_count": 21,
     "metadata": {},
     "output_type": "execute_result"
    }
   ],
   "source": [
    "theta"
   ]
  },
  {
   "cell_type": "code",
   "execution_count": 22,
   "metadata": {},
   "outputs": [
    {
     "data": {
      "text/plain": [
       "array([[6.20339993],\n",
       "       [6.82867567],\n",
       "       [5.5635146 ],\n",
       "       [7.02133243],\n",
       "       [6.61304278],\n",
       "       [7.19875402],\n",
       "       [6.40125103],\n",
       "       [5.9684555 ],\n",
       "       [4.96793486],\n",
       "       [5.14429089],\n",
       "       [5.76663347],\n",
       "       [6.92352047],\n",
       "       [5.51395736],\n",
       "       [7.1130628 ],\n",
       "       [6.14350177],\n",
       "       [4.83677378],\n",
       "       [5.80834973],\n",
       "       [5.12095372],\n",
       "       [5.68823516],\n",
       "       [6.65430461],\n",
       "       [5.66837945],\n",
       "       [5.34756887],\n",
       "       [5.83304047],\n",
       "       [4.65594864],\n",
       "       [5.05556344],\n",
       "       [7.09986867],\n",
       "       [5.23300096],\n",
       "       [5.55918076],\n",
       "       [6.27536557],\n",
       "       [7.49332208],\n",
       "       [6.63102918],\n",
       "       [5.5907485 ],\n",
       "       [6.24546298],\n",
       "       [4.87405452],\n",
       "       [5.19446915],\n",
       "       [4.95703231],\n",
       "       [4.78444897],\n",
       "       [5.67137151],\n",
       "       [6.94995207],\n",
       "       [5.3774784 ],\n",
       "       [6.67589317],\n",
       "       [6.30757271],\n",
       "       [6.02502784],\n",
       "       [5.71246247],\n",
       "       [6.44944273],\n",
       "       [6.99357994],\n",
       "       [4.93511938],\n",
       "       [6.83220097],\n",
       "       [7.01079709],\n",
       "       [5.77073026],\n",
       "       [6.78284889],\n",
       "       [4.64043321],\n",
       "       [6.93316563],\n",
       "       [6.42188439],\n",
       "       [4.68789308],\n",
       "       [5.92392894],\n",
       "       [4.58738253],\n",
       "       [5.41207562],\n",
       "       [5.01505799],\n",
       "       [6.09925698],\n",
       "       [4.68642155],\n",
       "       [4.76078744],\n",
       "       [7.48656257],\n",
       "       [7.42512547],\n",
       "       [6.91336098],\n",
       "       [7.49929573],\n",
       "       [6.67806066],\n",
       "       [5.92546319],\n",
       "       [6.56240712],\n",
       "       [7.25943087],\n",
       "       [5.55097073],\n",
       "       [6.5789712 ],\n",
       "       [4.93303674],\n",
       "       [5.33291999],\n",
       "       [7.17170542],\n",
       "       [6.69540522],\n",
       "       [7.49566407],\n",
       "       [6.64446528],\n",
       "       [5.25700544],\n",
       "       [6.09320077],\n",
       "       [6.24271688],\n",
       "       [6.20954687],\n",
       "       [6.98209178],\n",
       "       [6.87030411],\n",
       "       [6.80090102],\n",
       "       [6.04676235],\n",
       "       [7.1249674 ],\n",
       "       [6.08127465],\n",
       "       [6.3640388 ],\n",
       "       [6.45254876],\n",
       "       [6.08236147],\n",
       "       [6.09347701],\n",
       "       [6.89275263],\n",
       "       [7.25499699],\n",
       "       [7.45779407],\n",
       "       [6.52439424],\n",
       "       [7.49933519],\n",
       "       [6.06367088],\n",
       "       [6.66666565],\n",
       "       [5.39020838]])"
      ]
     },
     "execution_count": 22,
     "metadata": {},
     "output_type": "execute_result"
    }
   ],
   "source": [
    "y_p=x_b.dot(theta)\n",
    "\n",
    "y_p"
   ]
  },
  {
   "cell_type": "code",
   "execution_count": null,
   "metadata": {},
   "outputs": [],
   "source": [
    "y"
   ]
  },
  {
   "cell_type": "code",
   "execution_count": null,
   "metadata": {},
   "outputs": [],
   "source": []
  }
 ],
 "metadata": {
  "kernelspec": {
   "display_name": "Python 3",
   "language": "python",
   "name": "python3"
  },
  "language_info": {
   "codemirror_mode": {
    "name": "ipython",
    "version": 3
   },
   "file_extension": ".py",
   "mimetype": "text/x-python",
   "name": "python",
   "nbconvert_exporter": "python",
   "pygments_lexer": "ipython3",
   "version": "3.7.3"
  }
 },
 "nbformat": 4,
 "nbformat_minor": 2
}
