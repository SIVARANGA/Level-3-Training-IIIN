{
 "cells": [
  {
   "cell_type": "code",
   "execution_count": 2,
   "metadata": {},
   "outputs": [],
   "source": [
    "import numpy as np\n",
    "import matplotlib.pyplot as plt"
   ]
  },
  {
   "cell_type": "code",
   "execution_count": 3,
   "metadata": {},
   "outputs": [
    {
     "data": {
      "text/plain": [
       "array([[0.21384573],\n",
       "       [0.14990818],\n",
       "       [0.20326008],\n",
       "       [0.19835033],\n",
       "       [0.62333291],\n",
       "       [0.97372908],\n",
       "       [0.40827228],\n",
       "       [0.41228195],\n",
       "       [0.28823946],\n",
       "       [0.25471833],\n",
       "       [0.58407162],\n",
       "       [0.34554397],\n",
       "       [0.51983632],\n",
       "       [0.95634236],\n",
       "       [0.18793661],\n",
       "       [0.85390243],\n",
       "       [0.22604288],\n",
       "       [0.56409665],\n",
       "       [0.12927074],\n",
       "       [0.09796708],\n",
       "       [0.77918333],\n",
       "       [0.36469778],\n",
       "       [0.09604748],\n",
       "       [0.99274584],\n",
       "       [0.68385085],\n",
       "       [0.54165131],\n",
       "       [0.00285298],\n",
       "       [0.20720319],\n",
       "       [0.36649579],\n",
       "       [0.3731961 ],\n",
       "       [0.67695615],\n",
       "       [0.57484915],\n",
       "       [0.393032  ],\n",
       "       [0.9668283 ],\n",
       "       [0.57988135],\n",
       "       [0.70057374],\n",
       "       [0.58199454],\n",
       "       [0.16490431],\n",
       "       [0.83183602],\n",
       "       [0.0173082 ],\n",
       "       [0.56501142],\n",
       "       [0.1693406 ],\n",
       "       [0.06761207],\n",
       "       [0.10753366],\n",
       "       [0.48283861],\n",
       "       [0.43927329],\n",
       "       [0.30218999],\n",
       "       [0.19701217],\n",
       "       [0.43348874],\n",
       "       [0.74369088],\n",
       "       [0.41730521],\n",
       "       [0.35194505],\n",
       "       [0.72812903],\n",
       "       [0.70137604],\n",
       "       [0.07479303],\n",
       "       [0.01257728],\n",
       "       [0.3005691 ],\n",
       "       [0.00817874],\n",
       "       [0.55750002],\n",
       "       [0.28905161],\n",
       "       [0.09171174],\n",
       "       [0.94316875],\n",
       "       [0.64303122],\n",
       "       [0.29283388],\n",
       "       [0.70474055],\n",
       "       [0.64511184],\n",
       "       [0.79176981],\n",
       "       [0.3128931 ],\n",
       "       [0.3294927 ],\n",
       "       [0.91505774],\n",
       "       [0.11880576],\n",
       "       [0.03982276],\n",
       "       [0.93506712],\n",
       "       [0.73964504],\n",
       "       [0.33715673],\n",
       "       [0.79601039],\n",
       "       [0.68030162],\n",
       "       [0.51676443],\n",
       "       [0.69282395],\n",
       "       [0.7439011 ],\n",
       "       [0.77747902],\n",
       "       [0.70285731],\n",
       "       [0.84757562],\n",
       "       [0.99048799],\n",
       "       [0.47597088],\n",
       "       [0.47918015],\n",
       "       [0.00719099],\n",
       "       [0.10296286],\n",
       "       [0.58060113],\n",
       "       [0.3397393 ],\n",
       "       [0.87546504],\n",
       "       [0.22215218],\n",
       "       [0.5046371 ],\n",
       "       [0.57457166],\n",
       "       [0.01647624],\n",
       "       [0.94840139],\n",
       "       [0.79122474],\n",
       "       [0.44243424],\n",
       "       [0.86860721],\n",
       "       [0.64128365]])"
      ]
     },
     "execution_count": 3,
     "metadata": {},
     "output_type": "execute_result"
    }
   ],
   "source": [
    "x=np.random.rand(100,1)\n",
    "x\n"
   ]
  },
  {
   "cell_type": "code",
   "execution_count": 5,
   "metadata": {},
   "outputs": [
    {
     "data": {
      "text/plain": [
       "array([[5.3773063 ],\n",
       "       [4.85475462],\n",
       "       [5.19950844],\n",
       "       [4.20210523],\n",
       "       [5.6610782 ],\n",
       "       [7.31673064],\n",
       "       [5.06426407],\n",
       "       [4.79094338],\n",
       "       [5.32145959],\n",
       "       [5.79992049],\n",
       "       [7.769057  ],\n",
       "       [3.91834714],\n",
       "       [5.55720143],\n",
       "       [7.19218978],\n",
       "       [2.02879702],\n",
       "       [6.10199666],\n",
       "       [4.93495337],\n",
       "       [7.5342508 ],\n",
       "       [4.56531684],\n",
       "       [3.43970606],\n",
       "       [6.82456133],\n",
       "       [4.75888406],\n",
       "       [2.61714941],\n",
       "       [5.34573901],\n",
       "       [5.56063187],\n",
       "       [7.19004978],\n",
       "       [3.34836305],\n",
       "       [3.7875102 ],\n",
       "       [3.16511335],\n",
       "       [4.53783541],\n",
       "       [4.74179733],\n",
       "       [8.22703893],\n",
       "       [5.56911385],\n",
       "       [6.46421403],\n",
       "       [5.82398462],\n",
       "       [5.61143654],\n",
       "       [5.78709965],\n",
       "       [3.0090778 ],\n",
       "       [6.9886325 ],\n",
       "       [2.86496745],\n",
       "       [4.35725086],\n",
       "       [4.79845277],\n",
       "       [3.88610444],\n",
       "       [5.03146153],\n",
       "       [7.5294203 ],\n",
       "       [5.29328856],\n",
       "       [5.01863251],\n",
       "       [4.57543953],\n",
       "       [5.94830695],\n",
       "       [7.99853867],\n",
       "       [4.94770537],\n",
       "       [5.34307314],\n",
       "       [5.50781662],\n",
       "       [6.96745434],\n",
       "       [3.63924467],\n",
       "       [4.40301257],\n",
       "       [4.91975625],\n",
       "       [4.79193606],\n",
       "       [4.80524562],\n",
       "       [4.53959485],\n",
       "       [3.09920813],\n",
       "       [7.02209185],\n",
       "       [4.56979424],\n",
       "       [4.79116843],\n",
       "       [5.32233991],\n",
       "       [6.44183321],\n",
       "       [6.93334276],\n",
       "       [4.73510019],\n",
       "       [5.18635065],\n",
       "       [7.89611314],\n",
       "       [5.24663467],\n",
       "       [3.77604284],\n",
       "       [4.91657003],\n",
       "       [5.59299236],\n",
       "       [3.71971488],\n",
       "       [4.88393672],\n",
       "       [5.84702693],\n",
       "       [5.20600983],\n",
       "       [6.11064667],\n",
       "       [5.71604432],\n",
       "       [7.80723711],\n",
       "       [6.62764822],\n",
       "       [6.94410796],\n",
       "       [6.17879764],\n",
       "       [6.05592212],\n",
       "       [4.99174535],\n",
       "       [3.8393813 ],\n",
       "       [5.66047233],\n",
       "       [6.35288866],\n",
       "       [3.36644437],\n",
       "       [6.65824447],\n",
       "       [5.44589857],\n",
       "       [6.31147284],\n",
       "       [6.44722542],\n",
       "       [4.67395532],\n",
       "       [6.11129031],\n",
       "       [6.9269925 ],\n",
       "       [5.25608888],\n",
       "       [5.58742306],\n",
       "       [5.46088029]])"
      ]
     },
     "execution_count": 5,
     "metadata": {},
     "output_type": "execute_result"
    }
   ],
   "source": [
    "y=4+3*x+np.random.randn(100,1)\n",
    "y"
   ]
  },
  {
   "cell_type": "code",
   "execution_count": 6,
   "metadata": {},
   "outputs": [
    {
     "data": {
      "text/plain": [
       "[<matplotlib.lines.Line2D at 0x252d27cfd68>]"
      ]
     },
     "execution_count": 6,
     "metadata": {},
     "output_type": "execute_result"
    },
    {
     "data": {
      "image/png": "[encoded data removed]",
      "text/plain": [
       "<Figure size 432x288 with 1 Axes>"
      ]
     },
     "metadata": {
      "needs_background": "light"
     },
     "output_type": "display_data"
    }
   ],
   "source": [
    "plt.plot(x,y,\".\")"
   ]
  },
  {
   "cell_type": "code",
   "execution_count": 9,
   "metadata": {},
   "outputs": [
    {
     "data": {
      "text/plain": [
       "array([[1.        , 0.21384573],\n",
       "       [1.        , 0.14990818],\n",
       "       [1.        , 0.20326008],\n",
       "       [1.        , 0.19835033],\n",
       "       [1.        , 0.62333291],\n",
       "       [1.        , 0.97372908],\n",
       "       [1.        , 0.40827228],\n",
       "       [1.        , 0.41228195],\n",
       "       [1.        , 0.28823946],\n",
       "       [1.        , 0.25471833],\n",
       "       [1.        , 0.58407162],\n",
       "       [1.        , 0.34554397],\n",
       "       [1.        , 0.51983632],\n",
       "       [1.        , 0.95634236],\n",
       "       [1.        , 0.18793661],\n",
       "       [1.        , 0.85390243],\n",
       "       [1.        , 0.22604288],\n",
       "       [1.        , 0.56409665],\n",
       "       [1.        , 0.12927074],\n",
       "       [1.        , 0.09796708],\n",
       "       [1.        , 0.77918333],\n",
       "       [1.        , 0.36469778],\n",
       "       [1.        , 0.09604748],\n",
       "       [1.        , 0.99274584],\n",
       "       [1.        , 0.68385085],\n",
       "       [1.        , 0.54165131],\n",
       "       [1.        , 0.00285298],\n",
       "       [1.        , 0.20720319],\n",
       "       [1.        , 0.36649579],\n",
       "       [1.        , 0.3731961 ],\n",
       "       [1.        , 0.67695615],\n",
       "       [1.        , 0.57484915],\n",
       "       [1.        , 0.393032  ],\n",
       "       [1.        , 0.9668283 ],\n",
       "       [1.        , 0.57988135],\n",
       "       [1.        , 0.70057374],\n",
       "       [1.        , 0.58199454],\n",
       "       [1.        , 0.16490431],\n",
       "       [1.        , 0.83183602],\n",
       "       [1.        , 0.0173082 ],\n",
       "       [1.        , 0.56501142],\n",
       "       [1.        , 0.1693406 ],\n",
       "       [1.        , 0.06761207],\n",
       "       [1.        , 0.10753366],\n",
       "       [1.        , 0.48283861],\n",
       "       [1.        , 0.43927329],\n",
       "       [1.        , 0.30218999],\n",
       "       [1.        , 0.19701217],\n",
       "       [1.        , 0.43348874],\n",
       "       [1.        , 0.74369088],\n",
       "       [1.        , 0.41730521],\n",
       "       [1.        , 0.35194505],\n",
       "       [1.        , 0.72812903],\n",
       "       [1.        , 0.70137604],\n",
       "       [1.        , 0.07479303],\n",
       "       [1.        , 0.01257728],\n",
       "       [1.        , 0.3005691 ],\n",
       "       [1.        , 0.00817874],\n",
       "       [1.        , 0.55750002],\n",
       "       [1.        , 0.28905161],\n",
       "       [1.        , 0.09171174],\n",
       "       [1.        , 0.94316875],\n",
       "       [1.        , 0.64303122],\n",
       "       [1.        , 0.29283388],\n",
       "       [1.        , 0.70474055],\n",
       "       [1.        , 0.64511184],\n",
       "       [1.        , 0.79176981],\n",
       "       [1.        , 0.3128931 ],\n",
       "       [1.        , 0.3294927 ],\n",
       "       [1.        , 0.91505774],\n",
       "       [1.        , 0.11880576],\n",
       "       [1.        , 0.03982276],\n",
       "       [1.        , 0.93506712],\n",
       "       [1.        , 0.73964504],\n",
       "       [1.        , 0.33715673],\n",
       "       [1.        , 0.79601039],\n",
       "       [1.        , 0.68030162],\n",
       "       [1.        , 0.51676443],\n",
       "       [1.        , 0.69282395],\n",
       "       [1.        , 0.7439011 ],\n",
       "       [1.        , 0.77747902],\n",
       "       [1.        , 0.70285731],\n",
       "       [1.        , 0.84757562],\n",
       "       [1.        , 0.99048799],\n",
       "       [1.        , 0.47597088],\n",
       "       [1.        , 0.47918015],\n",
       "       [1.        , 0.00719099],\n",
       "       [1.        , 0.10296286],\n",
       "       [1.        , 0.58060113],\n",
       "       [1.        , 0.3397393 ],\n",
       "       [1.        , 0.87546504],\n",
       "       [1.        , 0.22215218],\n",
       "       [1.        , 0.5046371 ],\n",
       "       [1.        , 0.57457166],\n",
       "       [1.        , 0.01647624],\n",
       "       [1.        , 0.94840139],\n",
       "       [1.        , 0.79122474],\n",
       "       [1.        , 0.44243424],\n",
       "       [1.        , 0.86860721],\n",
       "       [1.        , 0.64128365]])"
      ]
     },
     "execution_count": 9,
     "metadata": {},
     "output_type": "execute_result"
    }
   ],
   "source": [
    "x_b=np.c_[np.ones((100,1)),x]#add x0=1 to each instance\n",
    "x_b"
   ]
  },
  {
   "cell_type": "code",
   "execution_count": 10,
   "metadata": {},
   "outputs": [
    {
     "data": {
      "text/plain": [
       "array([[3.90079031],\n",
       "       [3.0906454 ]])"
      ]
     },
     "execution_count": 10,
     "metadata": {},
     "output_type": "execute_result"
    }
   ],
   "source": [
    "theta_best = np.linalg.inv(x_b.T.dot(x_b)).dot(x_b.T).dot(y)\n",
    "theta_best"
   ]
  },
  {
   "cell_type": "code",
   "execution_count": 13,
   "metadata": {},
   "outputs": [
    {
     "data": {
      "text/plain": [
       "array([[1., 0.],\n",
       "       [1., 2.]])"
      ]
     },
     "execution_count": 13,
     "metadata": {},
     "output_type": "execute_result"
    }
   ],
   "source": [
    "x_new=np.array([[0],[2]])\n",
    "x_new_b = np.c_[np.ones((2,1)),x_new]\n",
    "x_new_b\n"
   ]
  },
  {
   "cell_type": "code",
   "execution_count": 14,
   "metadata": {},
   "outputs": [
    {
     "data": {
      "text/plain": [
       "array([[ 3.90079031],\n",
       "       [10.08208111]])"
      ]
     },
     "execution_count": 14,
     "metadata": {},
     "output_type": "execute_result"
    }
   ],
   "source": [
    "y_predict = x_new_b.dot(theta_best)\n",
    "y_predict"
   ]
  },
  {
   "cell_type": "code",
   "execution_count": 18,
   "metadata": {},
   "outputs": [
    {
     "data": {
      "text/plain": [
       "[0, 2, 0, 15]"
      ]
     },
     "execution_count": 18,
     "metadata": {},
     "output_type": "execute_result"
    },
    {
     "data": {
      "image/png": "[encoded data removed]",
      "text/plain": [
       "<Figure size 432x288 with 1 Axes>"
      ]
     },
     "metadata": {
      "needs_background": "light"
     },
     "output_type": "display_data"
    }
   ],
   "source": [
    "plt.plot(x_new,y_predict,\"m\")\n",
    "plt.plot(x,y,\"d\")\n",
    "plt.axis([0,2,0,15])"
   ]
  },
  {
   "cell_type": "markdown",
   "metadata": {},
   "source": [
    "#### gradient descent"
   ]
  },
  {
   "cell_type": "code",
   "execution_count": 19,
   "metadata": {},
   "outputs": [],
   "source": [
    "eta = 0.1\n",
    "n_iterations = 1000\n",
    "m = 100\n",
    "theta = np.random.randn(2,1)"
   ]
  },
  {
   "cell_type": "code",
   "execution_count": 23,
   "metadata": {},
   "outputs": [
    {
     "data": {
      "text/plain": [
       "array([[3.90079142],\n",
       "       [3.09064322]])"
      ]
     },
     "execution_count": 23,
     "metadata": {},
     "output_type": "execute_result"
    }
   ],
   "source": [
    "for iteration in range(n_iterations):\n",
    "    gradients = 2/m*x_b.T.dot(x_b.dot(theta)-y)\n",
    "    theta = theta - eta*gradients\n",
    "theta\n",
    "    "
   ]
  },
  {
   "cell_type": "code",
   "execution_count": null,
   "metadata": {},
   "outputs": [],
   "source": []
  }
 ],
 "metadata": {
  "kernelspec": {
   "display_name": "Python 3",
   "language": "python",
   "name": "python3"
  },
  "language_info": {
   "codemirror_mode": {
    "name": "ipython",
    "version": 3
   },
   "file_extension": ".py",
   "mimetype": "text/x-python",
   "name": "python",
   "nbconvert_exporter": "python",
   "pygments_lexer": "ipython3",
   "version": "3.7.3"
  }
 },
 "nbformat": 4,
 "nbformat_minor": 2
}
