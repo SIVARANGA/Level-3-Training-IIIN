{
 "cells": [
  {
   "cell_type": "code",
   "execution_count": 1,
   "metadata": {},
   "outputs": [
    {
     "name": "stdout",
     "output_type": "stream",
     "text": [
      "1\n",
      "4\n",
      "7\n",
      "8\n",
      "32\n"
     ]
    }
   ],
   "source": [
    "t=int(input())\n",
    "num=int(input())\n",
    "pos_cost=int(input())\n",
    "neg_cost=int(input())\n",
    "\n",
    "def CheckSpecialNumber(num):\n",
    "    list3=[]\n",
    "    list5=[]\n",
    "    list7=[]\n",
    "    fd=100\n",
    "    for i in range(1,fd):\n",
    "        list3.append(3**i)\n",
    "        list5.append(5**i)\n",
    "        list7.append(7**i)\n",
    "        \n",
    "    for i in range(0,len(list3)):\n",
    "        for j in range(0,len(list5)):\n",
    "            if list3[i]+list5[j]==num or list3[i]+list7[j]==num:\n",
    "                return True\n",
    "    for i in range(0,len(list5)):\n",
    "        for j in range(0,len(list7)):\n",
    "            if list5[i]+list7[j]==num:\n",
    "                return True\n",
    "n2=0            \n",
    "def NextSpeicialNumberPositive(num):\n",
    "    if CheckSpecialNumber(num)==False:\n",
    "        while True:\n",
    "            num=num+1\n",
    "            if CheckSpecialNumber(num)==True:\n",
    "                n2=num\n",
    "                return n2\n",
    "            break\n",
    "n1=0\n",
    "def NextSpeicialNumberNegative(num):\n",
    "    if CheckSpecialNumber(num)==False:\n",
    "        while True:\n",
    "            num=num-1\n",
    "            if CheckSpecialNumber(num)==True:\n",
    "                n1=num\n",
    "                return n1\n",
    "            break\n",
    "        \n",
    "difn=abs(num-n1)\n",
    "difp=abs(num-n2)\n",
    "\n",
    "if difp<difn:\n",
    "    print(difp*pos_cost)\n",
    "else:\n",
    "    print(difn*neg_cost)\n",
    "\n",
    "for i in range(t):\n",
    "    #CheckSpecialNumber(num)\n",
    "    NextSpeicialNumberPositive(num)\n",
    "    NextSpeicialNumberNegative(num)"
   ]
  },
  {
   "cell_type": "code",
   "execution_count": 1,
   "metadata": {},
   "outputs": [],
   "source": [
    "import numpy as np"
   ]
  },
  {
   "cell_type": "code",
   "execution_count": 12,
   "metadata": {},
   "outputs": [
    {
     "name": "stdout",
     "output_type": "stream",
     "text": [
      "60\n"
     ]
    }
   ],
   "source": [
    "k=np.array([1,2,3,4,5])\n",
    "m=np.roll(k,1)\n",
    "m1=np.roll(m,1)\n",
    "\n",
    "k=np.delete(k,-1)\n",
    "m=np.delete(m,-1)\n",
    "m1=np.delete(m1,-1)\n",
    "\n",
    "k=np.reshape(k,[2,2])\n",
    "m=np.reshape(m,[2,2])\n",
    "m1=np.reshape(m1,[2,2])\n",
    "op=k*m*m1\n",
    "p=sum(op)\n",
    "print(sum(p))"
   ]
  },
  {
   "cell_type": "code",
   "execution_count": 31,
   "metadata": {},
   "outputs": [
    {
     "name": "stdout",
     "output_type": "stream",
     "text": [
      "5 2\n",
      "1 2 3 4 5\n",
      "[[ 43  59]\n",
      " [107 145]]\n",
      "354\n"
     ]
    }
   ],
   "source": [
    "N,k=map(int,input().split())\n",
    "list1=list(map(int,input().split()))\n",
    "m=np.array(list1)\n",
    "m0=np.delete(m,-1)\n",
    "m0=np.reshape(m0,[2,2])\n",
    "op=m0\n",
    "for i in range(1,k+1):\n",
    "    m1=np.roll(m,i)\n",
    "    m1=np.delete(m1,-1)\n",
    "    m1=np.reshape(m1,[2,2])\n",
    "    m1=np.matmul(op,m1)\n",
    "    op=m1\n",
    "    \n",
    "print(m1)\n",
    "print(sum(sum(op)))"
   ]
  },
  {
   "cell_type": "code",
   "execution_count": 42,
   "metadata": {},
   "outputs": [
    {
     "name": "stdout",
     "output_type": "stream",
     "text": [
      "6 2\n",
      "1 2 3 4 5 6\n",
      "[[ 59  87]\n",
      " [163 237]]\n",
      "546\n"
     ]
    }
   ],
   "source": [
    "N,k=map(int,input().split())\n",
    "list1=list(map(int,input().split()))\n",
    "m=np.array(list1)\n",
    "p=int(np.sqrt(N))\n",
    "m0=m\n",
    "for d in range(1,np.size(m)-(p*p)+1):\n",
    "    m0=np.delete(m0,-d)\n",
    "m0=np.reshape(m0,[p,p])\n",
    "op=m0\n",
    "for i in range(1,k+1):\n",
    "    m1=np.roll(m,i)\n",
    "    for ded in range(1,np.size(m)-(p*p)+1):\n",
    "        m1=np.delete(m1,-ded)\n",
    "    #print(m1)\n",
    "    m1=np.reshape(m1,[p,p])\n",
    "    m1=np.matmul(op,m1)\n",
    "    op=m1\n",
    "    \n",
    "print(m1)\n",
    "print(sum(sum(op)))"
   ]
  },
  {
   "cell_type": "code",
   "execution_count": 39,
   "metadata": {},
   "outputs": [
    {
     "name": "stdout",
     "output_type": "stream",
     "text": [
      "6\n"
     ]
    }
   ],
   "source": [
    "m=np.array([1,2,4,5,3,6])\n",
    "\n",
    "print(np.size(m))"
   ]
  },
  {
   "cell_type": "code",
   "execution_count": 40,
   "metadata": {},
   "outputs": [
    {
     "data": {
      "text/plain": [
       "2"
      ]
     },
     "execution_count": 40,
     "metadata": {},
     "output_type": "execute_result"
    }
   ],
   "source": [
    "int(np.sqrt(6))"
   ]
  },
  {
   "cell_type": "code",
   "execution_count": 1,
   "metadata": {},
   "outputs": [
    {
     "name": "stdout",
     "output_type": "stream",
     "text": [
      "9\n",
      "9\n",
      "*################*\n",
      "**##############**\n",
      "***############***\n",
      "****##########****\n",
      "*****########*****\n",
      "******######******\n",
      "*******####*******\n",
      "********##********\n",
      "******************\n",
      "5\n",
      "*########*\n",
      "**######**\n",
      "***####***\n",
      "****##****\n",
      "**********\n",
      "3\n",
      "*####*\n",
      "**##**\n",
      "******\n",
      "2\n",
      "*##*\n",
      "****\n",
      "7\n",
      "*############*\n",
      "**##########**\n",
      "***########***\n",
      "****######****\n",
      "*****####*****\n",
      "******##******\n",
      "**************\n",
      "8\n",
      "*##############*\n",
      "**############**\n",
      "***##########***\n",
      "****########****\n",
      "*****######*****\n",
      "******####******\n",
      "*******##*******\n",
      "****************\n",
      "1\n",
      "**\n",
      "6\n",
      "*##########*\n",
      "**########**\n",
      "***######***\n",
      "****####****\n",
      "*****##*****\n",
      "************\n",
      "8\n",
      "*##############*\n",
      "**############**\n",
      "***##########***\n",
      "****########****\n",
      "*****######*****\n",
      "******####******\n",
      "*******##*******\n",
      "****************\n"
     ]
    }
   ],
   "source": [
    "samples=int(input())\n",
    "for sample in range(1,samples+1):\n",
    "    num=int(input())\n",
    "    for i in range(1,num+1):\n",
    "        print(i*\"*\"+((2*num)-(i*2))*\"#\"+i*\"*\")"
   ]
  },
  {
   "cell_type": "code",
   "execution_count": 4,
   "metadata": {},
   "outputs": [
    {
     "name": "stdout",
     "output_type": "stream",
     "text": [
      "5\n",
      "1 \n",
      "2 2 \n",
      "3 3 3 \n",
      "4 4 4 4 \n",
      "5 5 5 5 5 \n"
     ]
    }
   ],
   "source": [
    "num=int(input())\n",
    "for rows in range(1,num+1):\n",
    "    for col in range(1,rows+1):\n",
    "        print(rows,end=\" \")\n",
    "    print()"
   ]
  },
  {
   "cell_type": "code",
   "execution_count": null,
   "metadata": {},
   "outputs": [],
   "source": []
  }
 ],
 "metadata": {
  "kernelspec": {
   "display_name": "Python 3",
   "language": "python",
   "name": "python3"
  },
  "language_info": {
   "codemirror_mode": {
    "name": "ipython",
    "version": 3
   },
   "file_extension": ".py",
   "mimetype": "text/x-python",
   "name": "python",
   "nbconvert_exporter": "python",
   "pygments_lexer": "ipython3",
   "version": "3.7.3"
  }
 },
 "nbformat": 4,
 "nbformat_minor": 2
}
