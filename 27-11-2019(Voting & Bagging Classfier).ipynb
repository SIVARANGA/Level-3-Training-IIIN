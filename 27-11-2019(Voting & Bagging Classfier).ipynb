{
 "cells": [
  {
   "cell_type": "code",
   "execution_count": 92,
   "metadata": {},
   "outputs": [],
   "source": [
    "from sklearn.datasets import make_moons\n",
    "from sklearn.ensemble import RandomForestClassifier\n",
    "from sklearn.linear_model import LogisticRegression \n",
    "from sklearn.ensemble import VotingClassifier "
   ]
  },
  {
   "cell_type": "code",
   "execution_count": 93,
   "metadata": {},
   "outputs": [],
   "source": [
    "log_clf=LogisticRegression()\n",
    "rand_clf=RandomForestClassifier()"
   ]
  },
  {
   "cell_type": "code",
   "execution_count": 94,
   "metadata": {},
   "outputs": [],
   "source": [
    "x,y=make_moons(n_samples=100,noise=0.15,random_state=1)"
   ]
  },
  {
   "cell_type": "code",
   "execution_count": 95,
   "metadata": {},
   "outputs": [],
   "source": [
    "from sklearn.model_selection import train_test_split\n",
    "x_train,x_test,y_train,y_test=train_test_split(x,y,random_state=5,test_size=0.35)\n"
   ]
  },
  {
   "cell_type": "code",
   "execution_count": 96,
   "metadata": {},
   "outputs": [
    {
     "name": "stderr",
     "output_type": "stream",
     "text": [
      "C:\\Users\\RANGA\\Anaconda3\\lib\\site-packages\\sklearn\\linear_model\\logistic.py:433: FutureWarning: Default solver will be changed to 'lbfgs' in 0.22. Specify a solver to silence this warning.\n",
      "  FutureWarning)\n",
      "C:\\Users\\RANGA\\Anaconda3\\lib\\site-packages\\sklearn\\ensemble\\forest.py:246: FutureWarning: The default value of n_estimators will change from 10 in version 0.20 to 100 in 0.22.\n",
      "  \"10 in version 0.20 to 100 in 0.22.\", FutureWarning)\n"
     ]
    },
    {
     "data": {
      "text/plain": [
       "VotingClassifier(estimators=[('ir', LogisticRegression(C=1.0, class_weight=None, dual=False, fit_intercept=True,\n",
       "          intercept_scaling=1, max_iter=100, multi_class='warn',\n",
       "          n_jobs=None, penalty='l2', random_state=None, solver='warn',\n",
       "          tol=0.0001, verbose=0, warm_start=False)), ('rf', RandomFo...obs=None,\n",
       "            oob_score=False, random_state=None, verbose=0,\n",
       "            warm_start=False))],\n",
       "         flatten_transform=None, n_jobs=None, voting='hard', weights=None)"
      ]
     },
     "execution_count": 96,
     "metadata": {},
     "output_type": "execute_result"
    }
   ],
   "source": [
    "voting_clf=VotingClassifier(estimators=[('ir',log_clf),('rf',rand_clf)],voting='hard')\n",
    "\n",
    "voting_clf.fit(x_train,y_train)"
   ]
  },
  {
   "cell_type": "code",
   "execution_count": 97,
   "metadata": {},
   "outputs": [
    {
     "data": {
      "text/plain": [
       "array([0, 0, 0, 0, 0, 1, 1, 0, 0, 0, 1, 1, 0, 1, 0, 0, 1, 1, 0, 1, 0, 0,\n",
       "       1, 0, 0, 0, 0, 0, 0, 0, 0, 1, 0, 0, 0], dtype=int64)"
      ]
     },
     "execution_count": 97,
     "metadata": {},
     "output_type": "execute_result"
    }
   ],
   "source": [
    "voting_clf.predict(x_test)"
   ]
  },
  {
   "cell_type": "code",
   "execution_count": 98,
   "metadata": {},
   "outputs": [
    {
     "data": {
      "text/plain": [
       "array([1], dtype=int64)"
      ]
     },
     "execution_count": 98,
     "metadata": {},
     "output_type": "execute_result"
    }
   ],
   "source": [
    "voting_clf.predict([[0.52201368, -0.33279654]])"
   ]
  },
  {
   "cell_type": "code",
   "execution_count": 99,
   "metadata": {},
   "outputs": [
    {
     "data": {
      "text/plain": [
       "array([[ 1.36157805e+00, -2.86178984e-01],\n",
       "       [ 1.71606218e+00, -3.39267727e-01],\n",
       "       [-4.13609444e-01,  5.21318500e-01],\n",
       "       [ 1.21454894e+00, -2.05585321e-01],\n",
       "       [ 2.21549154e+00,  2.73396685e-01],\n",
       "       [ 5.19629911e-01,  7.74434352e-01],\n",
       "       [-8.69952516e-01,  9.40214508e-01],\n",
       "       [ 1.35985725e+00, -1.98201957e-01],\n",
       "       [ 7.29143899e-01, -3.89077052e-01],\n",
       "       [ 4.27704854e-01, -3.66266148e-01],\n",
       "       [ 1.87343832e+00, -1.68300118e-02],\n",
       "       [-8.24770542e-01,  6.83969372e-01],\n",
       "       [ 1.87076564e-01,  2.35085294e-01],\n",
       "       [ 1.60293851e-01,  2.61358161e-01],\n",
       "       [ 4.07106081e-02,  2.65312021e-01],\n",
       "       [-2.25817088e-01,  8.60332721e-01],\n",
       "       [-6.64146666e-01,  8.77801452e-01],\n",
       "       [-9.20093806e-01,  5.02277674e-01],\n",
       "       [ 1.21512286e+00, -5.90480100e-01],\n",
       "       [ 6.85305794e-01,  6.89613382e-01],\n",
       "       [ 7.59727862e-01,  9.71620023e-02],\n",
       "       [ 6.83733139e-01, -4.89146197e-01],\n",
       "       [ 1.99581474e+00,  2.75953939e-01],\n",
       "       [ 2.26253212e-01, -3.70776728e-01],\n",
       "       [ 3.49046868e-01,  7.91111984e-01],\n",
       "       [-6.68927097e-01,  6.96268658e-01],\n",
       "       [ 1.80944247e+00,  6.87046536e-02],\n",
       "       [-1.37621507e-01,  8.59061917e-01],\n",
       "       [-1.25693303e+00,  2.01428836e-02],\n",
       "       [-8.50312738e-01,  7.80528887e-01],\n",
       "       [ 6.54287416e-01, -1.61744449e-01],\n",
       "       [ 2.23143640e+00,  4.32840246e-01],\n",
       "       [-2.33948713e-01, -2.24298690e-02],\n",
       "       [ 1.81653505e+00,  1.86288966e-01],\n",
       "       [ 1.84188471e+00,  4.67393118e-02],\n",
       "       [-8.23961047e-01,  5.03059508e-01],\n",
       "       [-1.05730230e+00, -4.27945753e-02],\n",
       "       [-4.15399437e-02, -1.71192256e-01],\n",
       "       [ 2.19364247e-02,  9.74162146e-01],\n",
       "       [-7.03317276e-01,  9.77203624e-01],\n",
       "       [ 1.71277645e+00, -1.78940698e-01],\n",
       "       [-3.21597009e-02,  3.25453382e-01],\n",
       "       [ 1.24575993e+00, -3.84187248e-01],\n",
       "       [ 8.30682177e-01,  4.56876583e-01],\n",
       "       [ 1.29321512e+00, -3.48182933e-01],\n",
       "       [-8.82798429e-01,  6.17031334e-01],\n",
       "       [-9.12184809e-01,  1.76960492e-01],\n",
       "       [ 1.76100013e+00, -2.98453685e-02],\n",
       "       [ 8.00338277e-02,  1.03507694e+00],\n",
       "       [ 1.77210395e+00,  5.94603538e-01],\n",
       "       [-9.00622396e-01,  6.38956949e-01],\n",
       "       [-5.81966964e-02,  2.62137151e-01],\n",
       "       [-7.23361191e-02,  1.26628234e+00],\n",
       "       [ 1.10452816e+00,  3.76016479e-01],\n",
       "       [ 2.35393718e-01, -1.64140366e-02],\n",
       "       [-1.03052081e+00,  6.33250553e-02],\n",
       "       [ 4.26053536e-01,  9.43244455e-01],\n",
       "       [ 1.91675651e+00, -4.34815360e-01],\n",
       "       [ 9.67231778e-01,  1.45330780e-01],\n",
       "       [ 1.00229290e+00, -5.74416958e-01],\n",
       "       [-3.49073217e-01,  8.93802666e-01],\n",
       "       [ 4.67339628e-01, -3.15447964e-01],\n",
       "       [ 5.70646418e-01, -4.68913562e-01],\n",
       "       [-7.48137721e-01,  4.35102579e-01],\n",
       "       [-1.25941243e+00,  1.69978619e-01],\n",
       "       [ 1.91730412e+00, -1.40636629e-01],\n",
       "       [ 8.60407122e-01,  5.63281648e-01],\n",
       "       [ 3.37503993e-01, -3.75181886e-01],\n",
       "       [ 1.04004277e+00, -1.64819465e-02],\n",
       "       [ 1.73216273e+00, -1.64234970e-01],\n",
       "       [ 4.16913126e-02,  1.44914273e-01],\n",
       "       [ 1.87432671e-01,  1.18696907e+00],\n",
       "       [ 2.93728501e-01, -3.39972652e-01],\n",
       "       [ 3.09157770e-01, -3.23282276e-01],\n",
       "       [ 1.05811702e+00,  4.66767389e-01],\n",
       "       [ 1.87776562e+00,  4.29926269e-01],\n",
       "       [ 6.14036627e-01,  5.35403194e-01],\n",
       "       [ 7.93135473e-01, -5.65225127e-01],\n",
       "       [ 1.55454204e+00, -2.49810315e-01],\n",
       "       [ 5.88070947e-01,  5.25824193e-01],\n",
       "       [-4.76184275e-01,  8.55246041e-01],\n",
       "       [-2.18292227e-01,  9.11255658e-01],\n",
       "       [ 7.87840851e-01,  4.89407432e-01],\n",
       "       [ 3.61948096e-01,  7.34133796e-01],\n",
       "       [ 1.14102158e-01,  1.09787865e+00],\n",
       "       [ 1.41043884e-02,  7.26141741e-01],\n",
       "       [ 1.37226865e-01,  1.01863947e+00],\n",
       "       [ 9.16202735e-01,  2.88374286e-01],\n",
       "       [ 8.52029518e-01, -3.04390065e-01],\n",
       "       [ 1.20744671e+00, -3.47568518e-01],\n",
       "       [ 1.10121534e+00,  2.18481676e-03],\n",
       "       [ 5.50409692e-01,  7.69898566e-01],\n",
       "       [ 3.91089637e-01, -4.86342328e-01],\n",
       "       [ 1.27605357e+00, -3.20927218e-01],\n",
       "       [ 9.85667658e-01,  3.52610937e-01],\n",
       "       [ 1.05090505e+00, -6.68222058e-01],\n",
       "       [ 6.13457961e-01,  5.19252705e-01],\n",
       "       [ 7.03542855e-01, -8.97796771e-01],\n",
       "       [ 1.02705990e+00,  7.05424389e-01],\n",
       "       [-9.60499751e-01,  8.36468722e-01]])"
      ]
     },
     "execution_count": 99,
     "metadata": {},
     "output_type": "execute_result"
    }
   ],
   "source": [
    "x"
   ]
  },
  {
   "cell_type": "code",
   "execution_count": 100,
   "metadata": {},
   "outputs": [
    {
     "data": {
      "text/plain": [
       "array([1, 1, 0, 1, 1, 0, 0, 1, 1, 1, 1, 0, 1, 1, 1, 0, 0, 0, 1, 0, 0, 1,\n",
       "       1, 1, 0, 0, 1, 0, 0, 0, 1, 1, 1, 1, 1, 0, 0, 1, 0, 0, 1, 1, 1, 0,\n",
       "       1, 0, 0, 1, 0, 1, 0, 1, 0, 0, 1, 0, 0, 1, 0, 1, 0, 1, 1, 0, 0, 1,\n",
       "       0, 1, 0, 1, 1, 0, 1, 1, 0, 1, 0, 1, 1, 0, 0, 0, 0, 0, 0, 1, 0, 0,\n",
       "       1, 1, 0, 0, 1, 1, 0, 1, 0, 1, 0, 0], dtype=int64)"
      ]
     },
     "execution_count": 100,
     "metadata": {},
     "output_type": "execute_result"
    }
   ],
   "source": [
    "y"
   ]
  },
  {
   "cell_type": "code",
   "execution_count": 101,
   "metadata": {},
   "outputs": [
    {
     "name": "stdout",
     "output_type": "stream",
     "text": [
      "LogisticRegression 0.8\n",
      "RandomForestClassifier 0.9142857142857143\n",
      "VotingClassifier 0.8857142857142857\n"
     ]
    },
    {
     "name": "stderr",
     "output_type": "stream",
     "text": [
      "C:\\Users\\RANGA\\Anaconda3\\lib\\site-packages\\sklearn\\linear_model\\logistic.py:433: FutureWarning: Default solver will be changed to 'lbfgs' in 0.22. Specify a solver to silence this warning.\n",
      "  FutureWarning)\n",
      "C:\\Users\\RANGA\\Anaconda3\\lib\\site-packages\\sklearn\\ensemble\\forest.py:246: FutureWarning: The default value of n_estimators will change from 10 in version 0.20 to 100 in 0.22.\n",
      "  \"10 in version 0.20 to 100 in 0.22.\", FutureWarning)\n",
      "C:\\Users\\RANGA\\Anaconda3\\lib\\site-packages\\sklearn\\linear_model\\logistic.py:433: FutureWarning: Default solver will be changed to 'lbfgs' in 0.22. Specify a solver to silence this warning.\n",
      "  FutureWarning)\n"
     ]
    }
   ],
   "source": [
    "from sklearn.metrics import accuracy_score\n",
    "\n",
    "for clf in (log_clf,rand_clf,voting_clf):\n",
    "    clf.fit(x_train,y_train)\n",
    "    y_pred=clf.predict(x_test)\n",
    "    print(clf.__class__.__name__,accuracy_score(y_test,y_pred))"
   ]
  },
  {
   "cell_type": "code",
   "execution_count": 102,
   "metadata": {},
   "outputs": [],
   "source": [
    "# Bagging Classifier\n",
    "\n",
    "from sklearn.ensemble import BaggingClassifier\n",
    "from sklearn.tree import DecisionTreeClassifier\n",
    "bag_clf=BaggingClassifier(DecisionTreeClassifier(),n_estimators=500,max_samples=10,bootstrap=True,n_jobs=-1)"
   ]
  },
  {
   "cell_type": "code",
   "execution_count": 103,
   "metadata": {},
   "outputs": [
    {
     "data": {
      "text/plain": [
       "array([0, 1, 0, 1, 0, 1, 1, 1, 0, 0, 1, 1, 1, 1, 0, 1, 1, 1, 1, 1, 1, 0,\n",
       "       1, 0, 0, 1, 0, 0, 1, 1, 0, 1, 1, 1, 0], dtype=int64)"
      ]
     },
     "execution_count": 103,
     "metadata": {},
     "output_type": "execute_result"
    }
   ],
   "source": [
    "bag_clf.fit(x_train,y_train)\n",
    "y_pred=bag_clf.predict(x_test)\n",
    "\n",
    "y_pred"
   ]
  },
  {
   "cell_type": "code",
   "execution_count": 104,
   "metadata": {},
   "outputs": [
    {
     "data": {
      "text/plain": [
       "0.8285714285714286"
      ]
     },
     "execution_count": 104,
     "metadata": {},
     "output_type": "execute_result"
    }
   ],
   "source": [
    "accuracy_score(y_test,y_pred)"
   ]
  },
  {
   "cell_type": "code",
   "execution_count": null,
   "metadata": {},
   "outputs": [],
   "source": []
  }
 ],
 "metadata": {
  "kernelspec": {
   "display_name": "Python 3",
   "language": "python",
   "name": "python3"
  },
  "language_info": {
   "codemirror_mode": {
    "name": "ipython",
    "version": 3
   },
   "file_extension": ".py",
   "mimetype": "text/x-python",
   "name": "python",
   "nbconvert_exporter": "python",
   "pygments_lexer": "ipython3",
   "version": "3.7.3"
  }
 },
 "nbformat": 4,
 "nbformat_minor": 2
}
