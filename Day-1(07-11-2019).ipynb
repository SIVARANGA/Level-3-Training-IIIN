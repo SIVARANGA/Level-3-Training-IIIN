{
 "cells": [
  {
   "cell_type": "markdown",
   "metadata": {},
   "source": [
    "## Day-1 Afternoon Class"
   ]
  },
  {
   "cell_type": "code",
   "execution_count": null,
   "metadata": {},
   "outputs": [],
   "source": [
    "import numpy as np\n",
    "#import math as m\n",
    "n,k=map(int,input().split())\n",
    "ele=list(map(int,input().split()))\n"
   ]
  },
  {
   "cell_type": "code",
   "execution_count": null,
   "metadata": {},
   "outputs": [],
   "source": [
    "ele=list(map(int,input().split()))\n",
    "\n",
    "def  ShiftCircular(arr,n):\n",
    "    return arr[n:len(arr):]+arr[0:n:]\n",
    "for i in range(k):\n",
    "    ShiftCircular(ele,i)"
   ]
  },
  {
   "cell_type": "code",
   "execution_count": null,
   "metadata": {},
   "outputs": [],
   "source": [
    "t=int(input())\n",
    "num=int(input())\n",
    "pos_cost=int(input())\n",
    "neg_cost=int(input())\n",
    "\n",
    "def CheckSpecialNumber(num):\n",
    "    list3=[]\n",
    "    list5=[]\n",
    "    list7=[]\n",
    "    fd=10\n",
    "    for i in range(1,fd):\n",
    "        list3.append(3**i)\n",
    "        list5.append(5**i)\n",
    "        list7.append(7**i)\n",
    "        \n",
    "    for i in range(1,fd):\n",
    "        for j in range(1,fd):\n",
    "            if list3[i]+list5[j]==num or list3[i]+list7[j]==num:\n",
    "                return True\n",
    "    for i in range(1,fd):\n",
    "        for j in range(1,fd):\n",
    "            if list5[i]+list7[j]==num:\n",
    "                return True\n",
    "            \n",
    "def NextSpeicialNumberPositive(num):\n",
    "    count=0\n",
    "    if CheckSpecialNumber(num)==False:\n",
    "        while True:\n",
    "            num=num+1\n",
    "            count+=1\n",
    "            if CheckSpecialNumber(num)==True:\n",
    "                n2=num\n",
    "                return n2\n",
    "            break\n",
    "def NextSpeicialNumberNegative(num):\n",
    "    count1=0\n",
    "    if CheckSpecialNumber(num)==False:\n",
    "        while True:\n",
    "            num=num+1\n",
    "            count1+=1\n",
    "            if CheckSpecialNumber(num)==True:\n",
    "                n1=num\n",
    "                return n1\n",
    "            break\n",
    "        \n",
    "difp=abs(num-n1)\n",
    "difn=abs(num-n2)\n",
    "\n",
    "if difp<difn:\n",
    "    return difp*pos_cost\n",
    "else:\n",
    "    return difn*neg_cost\n",
    "\n",
    "for i in range(t):\n",
    "    CheckSpecialNumber(num)\n",
    "    NextSpeicialNumberPositive(num)\n",
    "    NextSpeicialNumberNegative(num)"
   ]
  },
  {
   "cell_type": "code",
   "execution_count": null,
   "metadata": {},
   "outputs": [],
   "source": [
    "def NextSpeicialNumberPositive(n2):\n",
    "    count=0\n",
    "    if CheckSpecialNumber(n2)==False:\n",
    "        while True:\n",
    "            n2=n2+1\n",
    "            count+=1\n",
    "            if CheckSpecialNumber(n2)==True:\n",
    "                return n2\n",
    "        break\n",
    "        \n",
    "def NextSpeicialNumberNegative(n1):\n",
    "    count1=0\n",
    "    if CheckSpecialNumber(n1)==False:\n",
    "        while True:\n",
    "            n1=n1+1\n",
    "            count1+=1\n",
    "            if CheckSpecialNumber(n1)==True:\n",
    "                return n1\n",
    "        break\n",
    "        \n",
    "NextSpeicialNumberPositive(n)"
   ]
  },
  {
   "cell_type": "code",
   "execution_count": null,
   "metadata": {},
   "outputs": [],
   "source": [
    "difp=abs(n-n1)\n",
    "difn=abs(n-n2)\n",
    "\n",
    "if difp<difn:\n",
    "    return difp*pos_cost\n",
    "else:\n",
    "    return difn*neg_cost\n"
   ]
  },
  {
   "cell_type": "code",
   "execution_count": null,
   "metadata": {},
   "outputs": [],
   "source": [
    "7**10+5**10"
   ]
  },
  {
   "cell_type": "code",
   "execution_count": null,
   "metadata": {},
   "outputs": [],
   "source": []
  }
 ],
 "metadata": {
  "kernelspec": {
   "display_name": "Python 3",
   "language": "python",
   "name": "python3"
  },
  "language_info": {
   "codemirror_mode": {
    "name": "ipython",
    "version": 3
   },
   "file_extension": ".py",
   "mimetype": "text/x-python",
   "name": "python",
   "nbconvert_exporter": "python",
   "pygments_lexer": "ipython3",
   "version": "3.7.3"
  }
 },
 "nbformat": 4,
 "nbformat_minor": 2
}
